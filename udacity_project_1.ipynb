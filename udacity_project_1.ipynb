{
 "cells": [
  {
   "cell_type": "code",
   "execution_count": null,
   "metadata": {},
   "outputs": [],
   "source": [
    "#Airbnb Munich dataset from 24th of December, 2020 - see: http://insideairbnb.com/get-the-data.html\n",
    "import pandas as pd\n",
    "\n",
    "calendar_df = pd.read_csv(\"./Data/calendar.csv\")\n",
    "listings_df = pd.read_csv(\"./Data/listings.csv\")"
   ]
  },
  {
   "cell_type": "code",
   "execution_count": null,
   "metadata": {},
   "outputs": [],
   "source": [
    "###########################################################################################################\n",
    "# Question 1: In which months are most Airbnb listings still available (total and by room type)?\n",
    "###########################################################################################################"
   ]
  },
  {
   "cell_type": "code",
   "execution_count": null,
   "metadata": {},
   "outputs": [],
   "source": [
    "calendar_df.head()"
   ]
  },
  {
   "cell_type": "code",
   "execution_count": null,
   "metadata": {},
   "outputs": [],
   "source": [
    "# Select relevant columns \n",
    "calendar_df = calendar_df[[\"listing_id\", \"date\", \"available\"]]\n",
    "calendar_df.head()"
   ]
  },
  {
   "cell_type": "code",
   "execution_count": null,
   "metadata": {},
   "outputs": [],
   "source": [
    "calendar_df.dtypes"
   ]
  },
  {
   "cell_type": "code",
   "execution_count": null,
   "metadata": {},
   "outputs": [],
   "source": [
    "print(\"We changed the type of the two columns date and available:\")\n",
    "calendar_df['date'] = pd.to_datetime(calendar_df['date'], errors='coerce')\n",
    "calendar_df[\"available\"] = calendar_df[\"available\"].replace({'t': True, 'f': False})\n",
    "calendar_df.dtypes"
   ]
  },
  {
   "cell_type": "code",
   "execution_count": null,
   "metadata": {},
   "outputs": [],
   "source": [
    "print(\"Please find some important data for the calender dataframe:\")\n",
    "print(\"- The number of rows is: \" + str(f\"{len(calendar_df.index):,}\"))\n",
    "print(\"- The number of Nan values for each column is 0:\")\n",
    "print(calendar_df.isnull().sum())"
   ]
  },
  {
   "cell_type": "code",
   "execution_count": null,
   "metadata": {},
   "outputs": [],
   "source": [
    "print(\"The Airbnb Munich dataset originally includes data between \" + min(calendar_df['date']).strftime(\"%Y/%m/%d\") + \" and \" + max(calendar_df['date']).strftime(\"%Y/%m/%d\") +\".\")\n",
    "print(\"As we are only interested in data from 2021, we skip the December 2020 data.\")\n",
    "calendar_df = calendar_df.loc[(calendar_df[\"date\"] >= \"2021-01-01\") & (calendar_df[\"date\"] <= \"2021-12-31\")]\n",
    "print(\"The Airbnb Munich dataset now includes data between \" + min(calendar_df['date']).strftime(\"%Y/%m/%d\") + \" and \" + max(calendar_df['date']).strftime(\"%Y/%m/%d\") +\".\")"
   ]
  },
  {
   "cell_type": "code",
   "execution_count": null,
   "metadata": {},
   "outputs": [],
   "source": [
    "print(\"The number of rows is: \" + str(f\"{len(calendar_df.index):,}\"))"
   ]
  },
  {
   "cell_type": "code",
   "execution_count": null,
   "metadata": {},
   "outputs": [],
   "source": [
    "# number of listings per month:\n",
    "no_listings_per_month=calendar_df[['listing_id']].groupby([calendar_df['date'].dt.year.rename('year'), calendar_df['date'].dt.month.rename('month')]).count()\n",
    "no_listings_per_month.rename(columns={'listing_id':'number_of_listings'}, inplace=True)\n",
    "print (no_listings_per_month)\n",
    "print( \"\\n\" + \"The graphic shows that there are less rooms listed for some months.\") \n",
    "print(\"December is the month with the lowest amount of rooms listed at Airbnb - Keep in mind that we also have less data provided for that month (data for the 30th and 31st of December is missing)\")"
   ]
  },
  {
   "cell_type": "code",
   "execution_count": null,
   "metadata": {},
   "outputs": [],
   "source": [
    "import os\n",
    "import numpy as np\n",
    "import matplotlib.pyplot as plt\n",
    "import matplotlib as mpl\n",
    "\n",
    "\n",
    "x = [u'Jan', u'Feb', u'Mar', u'Apr', u'May', u'Jun', u'Jul', u'Aug', u'Sep', u'Oct', u'Nov', u'Dec']\n",
    "y = no_listings_per_month.transpose().iloc[::3, :].values[0]\n",
    "\n",
    "fig, ax = plt.subplots() \n",
    "\n",
    "fig.set_size_inches(16, 6)\n",
    "width = 0.75 # the width of the bars \n",
    "ind = np.arange(len(y))  # the x locations for the groups\n",
    "\n",
    "ax.barh(ind, y, width, color=\"blue\")\n",
    "ax.set_yticks(ind+width/2)\n",
    "ax.set_yticklabels(x, minor=False)\n",
    "for i, v in enumerate(y):\n",
    "    ax.text(v, i, str(format(v, ',')), color='black')\n",
    "\n",
    "plt.title('Number of Airbnb listings per month', fontsize=14)\n",
    "plt.xlabel('Number of listings')\n",
    "plt.ylabel('Month')      \n",
    "ax.xaxis.set_major_formatter(mpl.ticker.FuncFormatter(lambda x, p: format(int(x), ',')))\n",
    "\n",
    "\n",
    "plt.show()"
   ]
  },
  {
   "cell_type": "code",
   "execution_count": null,
   "metadata": {},
   "outputs": [],
   "source": [
    "# merge the two dataframes listings_df and calendar_df \n",
    "calendar_df_with_room_types=pd.merge(calendar_df,listings_df, left_on='listing_id',right_on='id')\n",
    "# select relevant columns\n",
    "calendar_df_with_room_types = calendar_df_with_room_types[[\"date\", \"available\", \"listing_id\", \"room_type\"]]\n",
    "\n",
    "print(\"Question 1a: In which months are most Airbnb listings still available (total)?\", end=\"\\n\\n\")\n",
    "sum_1a = calendar_df_with_room_types.groupby([calendar_df_with_room_types['date'].dt.year.rename('year'), calendar_df_with_room_types['date'].dt.month.rename('month'), 'available'])['listing_id'].sum()\n",
    "result_1a = (sum_1a / sum_1a.groupby(l\n",
    "                                     \n",
    "                                     \n",
    "                                     evel=[0, 1]).transform(\"sum\")*100)\n",
    "result_1a_df = result_1a.to_frame().rename(columns = {'listing_id':'percentage'}) #Convert series to dataframe and rename column\n",
    "print(result_1a_df, end=\"\\n\\n\")\n",
    "print(\"February 2021 is the month with the highest availablity, followed by March 2021 and January 2021. This makes sense,\")\n",
    "print(\"if you think of the current Corona situation. People hesitate to book a room soon.\")\n",
    "print(\"October 2021 is the busiest month regarding the availablity rate. People look forward to go to the Octoberfest again.\")\n",
    "\n",
    "\n",
    "print(\"Question 1b: In which months are most Airbnb listings still available (by room_type)?\", end=\"\\n\\n\")\n",
    "sum_1b = calendar_df_with_room_types.groupby([calendar_df_with_room_types['date'].dt.year.rename('year'), calendar_df_with_room_types['date'].dt.month.rename('month'), 'available', 'room_type'])['listing_id'].sum()\n",
    "result_1b = sum_1b / sum_1b.groupby(level=[0, 1]).transform(\"sum\")*100\n",
    "result_1b_df = result_1b.to_frame().rename(columns = {'listing_id':'percentage'}) #Convert series to dataframe and rename column\n",
    "pd.set_option('display.max_rows', 1000)\n",
    "print(result_1b_df, end=\"\\n\\n\")\n",
    "print(\"This data is hard to read. Let's split the data and make some nice graphics and try out two different python libaries.\")\n"
   ]
  },
  {
   "cell_type": "code",
   "execution_count": null,
   "metadata": {
    "scrolled": true
   },
   "outputs": [],
   "source": [
    "# The final dateframes from here also serve as input for the second graphic (see below)\n",
    "result_1b_df_ind = result_1b_df.reset_index()\n",
    "\n",
    "print(\"Percentage of available rooms by month and room type:\", end=\"\\n\\n\")\n",
    "result_1b_available_df_ind= result_1b_df_ind[result_1b_df_ind['available'] == True]\n",
    "available_df = result_1b_available_df_ind.pivot('month', 'room_type', 'percentage')\n",
    "print(available_df, end=\"\\n\\n\\n\\n\")\n",
    "\n",
    "print(\"Percentage of unavailable rooms by month and room type:\", end=\"\\n\\n\")\n",
    "result_1b_unvailable_df_ind= result_1b_df_ind[result_1b_df_ind['available'] == False]\n",
    "unavailable_df = result_1b_unvailable_df_ind.pivot('month', 'room_type', 'percentage')\n",
    "print(unavailable_df, end=\"\\n\\n\\n\\n\")\n",
    "\n",
    "\n",
    "print(\"Entire home/apartments, private rooms and shared rooms have the hightest availability rate in Jan, Feb and Mar 2021.\")\n",
    "print(\"Only hotel rooms are more booked in January 2021 compared to the other months.\")\n",
    "\n",
    "#Hint: the sum of values from the first row of the two graphhics is 100 (equivalent for all other rows)\n",
    "#first row: 33.857044 + 0.897881 + 31.324853 + 1.372434 + 21.252804 + 0.512711 + 10.579063 + 0.203210 = 100 "
   ]
  },
  {
   "cell_type": "code",
   "execution_count": null,
   "metadata": {},
   "outputs": [],
   "source": [
    "import matplotlib.pyplot as plt\n",
    "from matplotlib.font_manager import FontProperties\n",
    "import numpy as np\n",
    "\n",
    "# Set the labels\n",
    "fig = plt.figure()\n",
    "fig.suptitle('Availability rate of Airbnb listings for 2021', fontsize=14)\n",
    "plt.xlabel('Month', fontsize=10)\n",
    "plt.ylabel('Percentage', fontsize=10)\n",
    "\n",
    "# Transform the data \n",
    "result_1a_df_ind = result_1a_df.reset_index()\n",
    "available = np.array(result_1a_df_ind[result_1a_df_ind['available'] == True].iloc[:,[3]].T.values[0])  # Transpose (.T)\n",
    "unavailable = np.array(result_1a_df_ind[result_1a_df_ind['available'] == False].iloc[:,[3]].T.values[0])\n",
    "\n",
    "# Make the stacked bar plot\n",
    "columns = ['Jan', 'Feb', 'Mar', 'Apr', 'May', 'Jun', 'Jul', 'Aug', 'Sep', 'Oct', 'Nov', 'Dec']\n",
    "pos = np.arange(len(columns))\n",
    "p1 = plt.bar(pos, np.add(unavailable , available), color='red', edgecolor='red', label= 'unavailable')\n",
    "p2 = plt.bar(pos, available, color='green', edgecolor='green', label= 'available')\n",
    "plt.xticks(pos, columns)\n",
    "\n",
    "# Create a legend\n",
    "fontP = FontProperties()\n",
    "fontP.set_size('medium')\n",
    "plt.legend(handles=[p1, p2], bbox_to_anchor=(1.05, 1), loc='upper left', prop=fontP)\n",
    "\n",
    "# Show graphic\n",
    "plt.show()"
   ]
  },
  {
   "cell_type": "code",
   "execution_count": null,
   "metadata": {},
   "outputs": [],
   "source": [
    "import altair as alt\n",
    "import calendar\n",
    "\n",
    "# Change from pivot table to normal table format; add column available\n",
    "def prepare_df(df, name):\n",
    "    df = df.stack().reset_index()\n",
    "    df.columns = ['month', 'room_type', 'values']\n",
    "    df['available'] = name\n",
    "    return df\n",
    "\n",
    "# Settings for displaying the chart\n",
    "months = ['Jan', 'Feb', 'Mar', 'Apr', 'May', 'Jun', 'Jul', 'Aug', 'Sep', 'Oct', 'Nov', 'Dec']\n",
    "order = ['available', 'unavailable'] \n",
    "\n",
    "# Prepare the data (dateframes see two cells above)\n",
    "unavailable_df = prepare_df(unavailable_df, 'unavailable')\n",
    "available_df = prepare_df(available_df, 'available')\n",
    "df = pd.concat([available_df, unavailable_df]) # join the two dataframes\n",
    "df['month'] = df['month'].apply(lambda x: calendar.month_abbr[x]) # convert values from month column to month name\n",
    "\n",
    "\n",
    "# Make the stacked bar plot\n",
    "chart = alt.Chart(df, title=['Availability rate of different Airbnb room types', '   ']).mark_bar().encode(\n",
    "\n",
    "    # Use room type as x-axis \n",
    "    x=alt.X('room_type:N', title=None),\n",
    "\n",
    "    # Use percentage as y-axis \n",
    "    y=alt.Y('sum(values):Q',\n",
    "        axis=alt.Axis(\n",
    "            grid=False,\n",
    "            title='Percentage')),\n",
    "\n",
    "    # Use month as the set of columns to be represented in each group\n",
    "    column=alt.Column('month:N',  title=None, sort=months),\n",
    "\n",
    "    # Set the colours \n",
    "    color=alt.Color('available:N', sort=order, \n",
    "            scale=alt.Scale(\n",
    "                # make it look pretty with an enjoyable color pallet\n",
    "                range=['green', 'red']\n",
    "            ), title =None, \n",
    "        ), \n",
    "    # Determine the order for displaying (we want available on the bottom)\n",
    "    order=\"order:Q\" \n",
    "    )\n",
    "\n",
    "#Configure the chart and display it\n",
    "chart.configure_view(strokeOpacity=0)"
   ]
  },
  {
   "cell_type": "code",
   "execution_count": null,
   "metadata": {},
   "outputs": [],
   "source": [
    "###########################################################################################################\n",
    "# Question 2: In which Munich areas (zip codes) are the best Airbnb listings (according to total rating)?\n",
    "###########################################################################################################"
   ]
  },
  {
   "cell_type": "code",
   "execution_count": null,
   "metadata": {},
   "outputs": [],
   "source": [
    "pd.set_option('display.max_columns', 100)\n",
    "listings_df.head()"
   ]
  },
  {
   "cell_type": "code",
   "execution_count": null,
   "metadata": {},
   "outputs": [],
   "source": [
    "# Select relevant columns \n",
    "# Do not use neighboorhood_cleansed since there is no geo data available for free regarding the districts of Munich\n",
    "\n",
    "listings_data_df = listings_df[[\"id\", \"latitude\", \"longitude\", \"review_scores_rating\"]]\n",
    "listings_data_df.head()"
   ]
  },
  {
   "cell_type": "code",
   "execution_count": null,
   "metadata": {},
   "outputs": [],
   "source": [
    "listings_data_df.dtypes"
   ]
  },
  {
   "cell_type": "code",
   "execution_count": null,
   "metadata": {},
   "outputs": [],
   "source": [
    "print(\"- The number of rows is: \" + str(f\"{len(listings_data_df.index):,}\"))"
   ]
  },
  {
   "cell_type": "code",
   "execution_count": null,
   "metadata": {},
   "outputs": [],
   "source": [
    "# Use latitude and longitude as input to get the zip code of the Airbnb listing via geopandas\n",
    "import geopandas as gpd\n",
    "from shapely.geometry import Point\n",
    "\n",
    "# Source for map data: https://www.suche-postleitzahl.org/plz-karte-erstellen\n",
    "gdf_locations = gpd.read_file('./Data/plz-5stellig.shp', dtype={'plz': str})\n",
    "# Data transformation\n",
    "listings_data_df = listings_data_df.copy()\n",
    "listings_data_df['loc'] = listings_data_df.apply(lambda x: list([x['latitude'], x['longitude']]),axis=1).copy()\n",
    "listings_data_df['loc'] = listings_data_df['loc'].apply(lambda x: Point(x[1],x[0]))\n",
    "# Retrieving map data\n",
    "geo_data = gpd.GeoDataFrame(listings_data_df,geometry=listings_data_df['loc'],crs=gdf_locations.crs).drop(['loc'], axis=1)\n",
    "geo_result = gpd.sjoin(geo_data,gdf_locations,how='left',op='within')\n",
    "geo_result.head()"
   ]
  },
  {
   "cell_type": "code",
   "execution_count": null,
   "metadata": {},
   "outputs": [],
   "source": [
    "# Convert geodataframe to pandas-dataframe\n",
    "munich_df  = pd.DataFrame(geo_result)\n",
    "# Remove non-relevant columns\n",
    "munich_df = munich_df.drop(columns=['index_right',  'geometry', 'latitude', 'longitude'])\n",
    "munich_df.head()"
   ]
  },
  {
   "cell_type": "code",
   "execution_count": null,
   "metadata": {},
   "outputs": [],
   "source": [
    "print(\"- The number of rows is: \" + str(f\"{len(munich_df.index):,}\"))"
   ]
  },
  {
   "cell_type": "code",
   "execution_count": null,
   "metadata": {},
   "outputs": [],
   "source": [
    "# Remove null values \n",
    "print(munich_df.isnull().sum())\n",
    "munich_df = munich_df.dropna()"
   ]
  },
  {
   "cell_type": "code",
   "execution_count": null,
   "metadata": {
    "scrolled": false
   },
   "outputs": [],
   "source": [
    "#Display amount of the different review_scores for each zip code\n",
    "munich_df.groupby(['plz','review_scores_rating']).size().unstack()"
   ]
  },
  {
   "cell_type": "code",
   "execution_count": null,
   "metadata": {},
   "outputs": [],
   "source": [
    "# Calculate mean review_score for each zip code\n",
    "res_2 = munich_df.groupby(['plz']).agg(['count','mean'])\n",
    "res_2  = res_2 .drop(columns=['id'])\n",
    "res_2 = res_2.reset_index()\n",
    "print(res_2.head(100))\n",
    "print()\n",
    "print(\"We can see that the ratings are very high for all listings (all above 90).\")\n",
    "print(\"Some of the zip codes only have a few ratings.\")"
   ]
  },
  {
   "cell_type": "code",
   "execution_count": null,
   "metadata": {
    "scrolled": false
   },
   "outputs": [],
   "source": [
    "# Get polygon geometry data for the plot\n",
    "pd.set_option('display.max_rows', 100)\n",
    "plot_input_data = pd.merge(left=res_2, right=gdf_locations, on='plz', how='left')\n",
    "plot_input_data = plot_input_data.drop(columns=['einwohner', 'note', 'qkm'])\n",
    "plot_input_data.head(100)"
   ]
  },
  {
   "cell_type": "code",
   "execution_count": null,
   "metadata": {},
   "outputs": [],
   "source": []
  },
  {
   "cell_type": "code",
   "execution_count": null,
   "metadata": {},
   "outputs": [],
   "source": [
    "from geopandas import GeoDataFrame\n",
    "# Create the plot\n",
    "plt.style.use('seaborn')\n",
    "%matplotlib inline\n",
    "fig, ax = plt.subplots(figsize=(28,14))\n",
    "\n",
    "GeoDataFrame(plot_input_data).plot(ax=ax, column=plot_input_data.columns[3], categorical=False, legend=True, cmap='summer_r',\n",
    "                                   missing_kwds=dict(color='grey'))\n",
    "\n",
    "#Set the title\n",
    "ax.set_title('Average rating of Airbnb listings for each zip code', pad=10, fontsize=18)\n",
    "\n",
    "# Remove axis labels for latitude and longitude\n",
    "ax.axes.xaxis.set_visible(False)\n",
    "ax.axes.yaxis.set_visible(False)\n",
    "ax.set(facecolor='lightgrey');\n",
    "\n",
    "# Add zip code labels\n",
    "plot_input_data.apply(lambda x: ax.annotate(text=x.plz, xy=x.geometry.centroid.coords[0], ha='center'),axis=1);\n",
    "\n",
    "print(\"Annotation: Zip codes with less than 10 ratings were excluded from the analysis and marked in dark gray.\")\n",
    "print(\"Results: It seems to be that most of the popular areas are placed in the West of Munich.\")\n",
    "print(\"This area has very good traffic connections to the inner city and also to the Oktoberfest.\")\n",
    "print(\"As some the zip codes in the West of Munich like Laim have lower house/appartment prices compared to other areas,\") \n",
    "print(\"let's investigate the relationship between listing price and listing (total) rating\")"
   ]
  },
  {
   "cell_type": "code",
   "execution_count": null,
   "metadata": {},
   "outputs": [],
   "source": [
    "# same plot with all Airbnb listings included in the figure\n",
    "\n",
    "from geopandas import GeoDataFrame\n",
    "# Create the plot\n",
    "plt.style.use('seaborn')\n",
    "%matplotlib inline\n",
    "fig, ax = plt.subplots(figsize=(28,14))\n",
    "\n",
    "GeoDataFrame(plot_input_data).plot(ax=ax, column=plot_input_data.columns[3], categorical=False, legend=True, cmap='summer_r',\n",
    "                                   missing_kwds=dict(color='grey'))\n",
    "\n",
    "listings_data_df['const']=1\n",
    "GeoDataFrame(listings_data_df).plot(ax=ax, column='const', categorical=False, legend=False, cmap='gray');\n",
    "\n",
    "#Set the title\n",
    "ax.set_title('Average rating of Airbnb listings for each zip code (including the locations of the listings)', pad=10, fontsize=18)\n",
    "\n",
    "# Remove axis labels for latitude and longitude\n",
    "ax.axes.xaxis.set_visible(False)\n",
    "ax.axes.yaxis.set_visible(False)\n",
    "ax.set(facecolor='lightgrey');\n",
    "\n",
    "print(\"Most of the Airbnb listings are located near to the inner city.\")"
   ]
  },
  {
   "cell_type": "code",
   "execution_count": null,
   "metadata": {},
   "outputs": [],
   "source": [
    "###########################################################################################################\n",
    "# Question 3: Do cheaper listings have a lower rating compared to more expensive listings? \n",
    "###########################################################################################################\n"
   ]
  },
  {
   "cell_type": "code",
   "execution_count": null,
   "metadata": {},
   "outputs": [],
   "source": [
    "# Data selection\n",
    "listings_data_df_price = listings_df[[\"id\", \"price\", \"review_scores_rating\"]]\n",
    "listings_data_df_price.head()"
   ]
  },
  {
   "cell_type": "code",
   "execution_count": null,
   "metadata": {},
   "outputs": [],
   "source": [
    "# Data cleaning of coloumn price\n",
    "listings_data_df_price[\"price\"] = listings_data_df_price[\"price\"].str.replace(\"$\", '',regex=True).str.replace(\",\", '',regex=True).astype(float)\n",
    "listings_data_df_price.head()"
   ]
  },
  {
   "cell_type": "code",
   "execution_count": null,
   "metadata": {},
   "outputs": [],
   "source": [
    "listings_data_df_price.dtypes"
   ]
  },
  {
   "cell_type": "code",
   "execution_count": null,
   "metadata": {},
   "outputs": [],
   "source": [
    "listings_data_df_price.isnull().sum()\n",
    "# As NaN values are not taken into account in the scotter plot, we do not need to remove them."
   ]
  },
  {
   "cell_type": "code",
   "execution_count": null,
   "metadata": {},
   "outputs": [],
   "source": [
    "print(listings_data_df_price[[\"price\", \"review_scores_rating\"]].describe())\n",
    "print()\n",
    "print(\"The high standard deviation (247) indicates that the data are more spread out.\")\n",
    "print(\"Also the maximum is very high (8255).\")\n",
    "print(\"There is also at least one price value, which is equals 0 (see minimum).\")"
   ]
  },
  {
   "cell_type": "code",
   "execution_count": null,
   "metadata": {},
   "outputs": [],
   "source": [
    "# Let's have a look at the listings with a price of 0. \n",
    "# All rows with price values of 0, also have NaN rating values.\n",
    "# As NaN values are not taken into account in the scotter plot, we do not need to remove them.\n",
    "listings_data_df_price[listings_data_df_price[\"price\"] == 0]"
   ]
  },
  {
   "cell_type": "code",
   "execution_count": null,
   "metadata": {},
   "outputs": [],
   "source": [
    "# Scatter plot to describe relationship between price and (total) rating\n",
    "import matplotlib.pyplot as plt\n",
    "ax = listings_data_df_price.plot(kind='scatter', x='price', y='review_scores_rating')\n",
    "\n",
    "plt.xlabel('Price in $')\n",
    "plt.ylabel('Total review score')\n",
    "plt.title('Scatter plot of total review rating vs. price')\n",
    "\n",
    "ax.xaxis.set_major_formatter(mpl.ticker.StrMethodFormatter('{x:,.0f}'))\n",
    "plt.show()\n",
    "\n",
    "print(\"From the scatter plot, we can see the outliers.\")"
   ]
  },
  {
   "cell_type": "code",
   "execution_count": null,
   "metadata": {},
   "outputs": [],
   "source": [
    "# Remove outliers by querying the rows with a price less than $600\n",
    "price_less_than_600 = listings_data_df_price.query('price <= 600')\n",
    "count_outliers = len(listings_data_df_price[listings_data_df_price['price'] > 600])\n",
    "percentage_outliers = len(listings_data_df_price[listings_data_df_price['price'] > 600]) / listings_data_df_price.shape[0] * 100\n",
    "print('We found {} rows ({:.2f}%) with a price less than $600.'.format(count_outliers, percentage_outliers))"
   ]
  },
  {
   "cell_type": "code",
   "execution_count": null,
   "metadata": {},
   "outputs": [],
   "source": [
    "import matplotlib.pyplot as plt\n",
    "plt.scatter(price_less_than_600['price'],price_less_than_600['review_scores_rating'])\n",
    "plt.xlabel('Price in $')\n",
    "plt.ylabel('Total review score')\n",
    "plt.title('Scatter plot of total review rating vs. price (price less than $600)')\n",
    "plt.show()\n",
    "\n",
    "print(\"From the scatter plot, we can see that there is hardly no relationship between total review score and price.\")\n",
    "print(\"Many listings in the lower price range also have very high ratings.\")"
   ]
  },
  {
   "cell_type": "code",
   "execution_count": null,
   "metadata": {},
   "outputs": [],
   "source": [
    "import seaborn as sb\n",
    "\n",
    "pearsoncorr = price_less_than_600[[\"price\", \"review_scores_rating\"]].corr(method='pearson')\n",
    "\n",
    "sb.heatmap(pearsoncorr, \n",
    "            xticklabels=pearsoncorr.columns,\n",
    "            yticklabels=pearsoncorr.columns,\n",
    "            cmap='RdBu',\n",
    "            annot=True,\n",
    "            linewidth=0.5)\n",
    "print(\"From the results of the correlation coefficient, we come to the same conclusion:\")\n",
    "print(\"The correlation coefficient of -0.011 is considered as negligible correlation.\")"
   ]
  }
 ],
 "metadata": {
  "kernelspec": {
   "display_name": "Python 3",
   "language": "python",
   "name": "python3"
  },
  "language_info": {
   "codemirror_mode": {
    "name": "ipython",
    "version": 3
   },
   "file_extension": ".py",
   "mimetype": "text/x-python",
   "name": "python",
   "nbconvert_exporter": "python",
   "pygments_lexer": "ipython3",
   "version": "3.7.3"
  }
 },
 "nbformat": 4,
 "nbformat_minor": 4
}
